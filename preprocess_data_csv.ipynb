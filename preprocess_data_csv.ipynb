{
 "cells": [
  {
   "cell_type": "code",
   "execution_count": 1,
   "metadata": {},
   "outputs": [],
   "source": [
    "import os\n",
    "import glob\n",
    "import pandas as pd\n",
    "import numpy as np\n",
    "import rasterio as rio\n",
    "import concurrent.futures\n",
    "import tqdm"
   ]
  },
  {
   "cell_type": "code",
   "execution_count": 2,
   "metadata": {},
   "outputs": [],
   "source": [
    "DIR_FILES = '/mnt/mount-point-directory/datasets2/'\n",
    "TRAIN_FRAC = 0.8\n",
    "SAVE_DIR = './data/'\n",
    "\n",
    "folder_name = 'data_2'"
   ]
  },
  {
   "cell_type": "code",
   "execution_count": 3,
   "metadata": {},
   "outputs": [],
   "source": [
    "cities = ['burnaby_5_percent', 'surrey-newton-2021']\n",
    "# cities = ['birmingham_5_percent']"
   ]
  },
  {
   "cell_type": "code",
   "execution_count": 4,
   "metadata": {},
   "outputs": [],
   "source": [
    "df_2 = pd.DataFrame(columns = ['city', 'path_img', 'path_road_mask', 'path_driveway_mask', 'path_building_fp'])"
   ]
  },
  {
   "cell_type": "code",
   "execution_count": 5,
   "metadata": {},
   "outputs": [],
   "source": [
    "def add_entry(df_, city_name, path_imgs, path_road_masks, path_driveway_masks, path_building_fps):\n",
    "    \"\"\"\n",
    "    Add a list of img paths and sw_mask paths to the dataframe.\n",
    "    In future you may change it to generalize using zip(input_values) to form a new row rather than hardcoding.\n",
    "    \"\"\"\n",
    "    for path_img, path_road_mask, path_driveway_mask, path_building_fp in zip(path_imgs, \n",
    "                                                                              path_road_masks, \n",
    "                                                                              path_driveway_masks, \n",
    "                                                                              path_building_fps):\n",
    "        new_row = {'city': city_name,\n",
    "                   'path_img': path_img,\n",
    "                   'path_road_mask': path_road_mask,\n",
    "                   'path_driveway_mask': path_driveway_mask,\n",
    "                   'path_building_fp': path_building_fp\n",
    "                  }\n",
    "        df_ = df_.append(new_row, ignore_index=True)\n",
    "    return df_"
   ]
  },
  {
   "cell_type": "code",
   "execution_count": 6,
   "metadata": {},
   "outputs": [],
   "source": [
    "for city in cities:\n",
    "    path_imgs = glob.glob(os.path.join(DIR_FILES, city, 'VRT_driveway', 'tiles', '*.jp2'))\n",
    "    path_road_masks = glob.glob(os.path.join(DIR_FILES, city, 'mask_road', 'tiles', '*.jp2'))\n",
    "    path_driveway_masks = glob.glob(os.path.join(DIR_FILES, city, 'mask_driveway', 'tiles', '*.jp2'))\n",
    "    path_building_fps = glob.glob(os.path.join(DIR_FILES, city, 'mask_building_fp', 'tiles', '*.jp2'))\n",
    "\n",
    "    # sorting to match files\n",
    "    path_imgs.sort()\n",
    "    path_road_masks.sort()\n",
    "    path_driveway_masks.sort()\n",
    "    path_building_fps.sort()\n",
    "\n",
    "    df_2 = add_entry(df_2, city, path_imgs, path_road_masks, path_driveway_masks, path_building_fps)"
   ]
  },
  {
   "cell_type": "code",
   "execution_count": 8,
   "metadata": {},
   "outputs": [
    {
     "data": {
      "text/html": [
       "<div>\n",
       "<style scoped>\n",
       "    .dataframe tbody tr th:only-of-type {\n",
       "        vertical-align: middle;\n",
       "    }\n",
       "\n",
       "    .dataframe tbody tr th {\n",
       "        vertical-align: top;\n",
       "    }\n",
       "\n",
       "    .dataframe thead th {\n",
       "        text-align: right;\n",
       "    }\n",
       "</style>\n",
       "<table border=\"1\" class=\"dataframe\">\n",
       "  <thead>\n",
       "    <tr style=\"text-align: right;\">\n",
       "      <th></th>\n",
       "      <th>city</th>\n",
       "    </tr>\n",
       "  </thead>\n",
       "  <tbody>\n",
       "    <tr>\n",
       "      <th>surrey-newton-2021</th>\n",
       "      <td>183</td>\n",
       "    </tr>\n",
       "    <tr>\n",
       "      <th>burnaby_5_percent</th>\n",
       "      <td>20</td>\n",
       "    </tr>\n",
       "  </tbody>\n",
       "</table>\n",
       "</div>"
      ],
      "text/plain": [
       "                    city\n",
       "surrey-newton-2021   183\n",
       "burnaby_5_percent     20"
      ]
     },
     "execution_count": 8,
     "metadata": {},
     "output_type": "execute_result"
    }
   ],
   "source": [
    "x = df_2['city'].value_counts()\n",
    "x = pd.DataFrame(x)\n",
    "x"
   ]
  },
  {
   "cell_type": "code",
   "execution_count": 13,
   "metadata": {},
   "outputs": [
    {
     "data": {
      "text/html": [
       "<div>\n",
       "<style scoped>\n",
       "    .dataframe tbody tr th:only-of-type {\n",
       "        vertical-align: middle;\n",
       "    }\n",
       "\n",
       "    .dataframe tbody tr th {\n",
       "        vertical-align: top;\n",
       "    }\n",
       "\n",
       "    .dataframe thead th {\n",
       "        text-align: right;\n",
       "    }\n",
       "</style>\n",
       "<table border=\"1\" class=\"dataframe\">\n",
       "  <thead>\n",
       "    <tr style=\"text-align: right;\">\n",
       "      <th></th>\n",
       "      <th>city</th>\n",
       "      <th>path_img</th>\n",
       "      <th>path_road_mask</th>\n",
       "      <th>path_driveway_mask</th>\n",
       "      <th>path_building_fp</th>\n",
       "    </tr>\n",
       "  </thead>\n",
       "  <tbody>\n",
       "    <tr>\n",
       "      <th>0</th>\n",
       "      <td>burnaby_5_percent</td>\n",
       "      <td>/mnt/mount-point-directory/datasets2/burnaby_5...</td>\n",
       "      <td>/mnt/mount-point-directory/datasets2/burnaby_5...</td>\n",
       "      <td>/mnt/mount-point-directory/datasets2/burnaby_5...</td>\n",
       "      <td>/mnt/mount-point-directory/datasets2/burnaby_5...</td>\n",
       "    </tr>\n",
       "    <tr>\n",
       "      <th>1</th>\n",
       "      <td>burnaby_5_percent</td>\n",
       "      <td>/mnt/mount-point-directory/datasets2/burnaby_5...</td>\n",
       "      <td>/mnt/mount-point-directory/datasets2/burnaby_5...</td>\n",
       "      <td>/mnt/mount-point-directory/datasets2/burnaby_5...</td>\n",
       "      <td>/mnt/mount-point-directory/datasets2/burnaby_5...</td>\n",
       "    </tr>\n",
       "    <tr>\n",
       "      <th>2</th>\n",
       "      <td>burnaby_5_percent</td>\n",
       "      <td>/mnt/mount-point-directory/datasets2/burnaby_5...</td>\n",
       "      <td>/mnt/mount-point-directory/datasets2/burnaby_5...</td>\n",
       "      <td>/mnt/mount-point-directory/datasets2/burnaby_5...</td>\n",
       "      <td>/mnt/mount-point-directory/datasets2/burnaby_5...</td>\n",
       "    </tr>\n",
       "    <tr>\n",
       "      <th>3</th>\n",
       "      <td>burnaby_5_percent</td>\n",
       "      <td>/mnt/mount-point-directory/datasets2/burnaby_5...</td>\n",
       "      <td>/mnt/mount-point-directory/datasets2/burnaby_5...</td>\n",
       "      <td>/mnt/mount-point-directory/datasets2/burnaby_5...</td>\n",
       "      <td>/mnt/mount-point-directory/datasets2/burnaby_5...</td>\n",
       "    </tr>\n",
       "    <tr>\n",
       "      <th>4</th>\n",
       "      <td>burnaby_5_percent</td>\n",
       "      <td>/mnt/mount-point-directory/datasets2/burnaby_5...</td>\n",
       "      <td>/mnt/mount-point-directory/datasets2/burnaby_5...</td>\n",
       "      <td>/mnt/mount-point-directory/datasets2/burnaby_5...</td>\n",
       "      <td>/mnt/mount-point-directory/datasets2/burnaby_5...</td>\n",
       "    </tr>\n",
       "  </tbody>\n",
       "</table>\n",
       "</div>"
      ],
      "text/plain": [
       "                city                                           path_img  \\\n",
       "0  burnaby_5_percent  /mnt/mount-point-directory/datasets2/burnaby_5...   \n",
       "1  burnaby_5_percent  /mnt/mount-point-directory/datasets2/burnaby_5...   \n",
       "2  burnaby_5_percent  /mnt/mount-point-directory/datasets2/burnaby_5...   \n",
       "3  burnaby_5_percent  /mnt/mount-point-directory/datasets2/burnaby_5...   \n",
       "4  burnaby_5_percent  /mnt/mount-point-directory/datasets2/burnaby_5...   \n",
       "\n",
       "                                      path_road_mask  \\\n",
       "0  /mnt/mount-point-directory/datasets2/burnaby_5...   \n",
       "1  /mnt/mount-point-directory/datasets2/burnaby_5...   \n",
       "2  /mnt/mount-point-directory/datasets2/burnaby_5...   \n",
       "3  /mnt/mount-point-directory/datasets2/burnaby_5...   \n",
       "4  /mnt/mount-point-directory/datasets2/burnaby_5...   \n",
       "\n",
       "                                  path_driveway_mask  \\\n",
       "0  /mnt/mount-point-directory/datasets2/burnaby_5...   \n",
       "1  /mnt/mount-point-directory/datasets2/burnaby_5...   \n",
       "2  /mnt/mount-point-directory/datasets2/burnaby_5...   \n",
       "3  /mnt/mount-point-directory/datasets2/burnaby_5...   \n",
       "4  /mnt/mount-point-directory/datasets2/burnaby_5...   \n",
       "\n",
       "                                    path_building_fp  \n",
       "0  /mnt/mount-point-directory/datasets2/burnaby_5...  \n",
       "1  /mnt/mount-point-directory/datasets2/burnaby_5...  \n",
       "2  /mnt/mount-point-directory/datasets2/burnaby_5...  \n",
       "3  /mnt/mount-point-directory/datasets2/burnaby_5...  \n",
       "4  /mnt/mount-point-directory/datasets2/burnaby_5...  "
      ]
     },
     "execution_count": 13,
     "metadata": {},
     "output_type": "execute_result"
    }
   ],
   "source": [
    "df_2.head()"
   ]
  },
  {
   "cell_type": "code",
   "execution_count": 14,
   "metadata": {},
   "outputs": [],
   "source": [
    "def remove_empty_files(index_):\n",
    "    \"\"\"\n",
    "    function to check and remove the entries where there is no sidewalk\n",
    "    \"\"\"\n",
    "    path_file = df_2['path_driveway_mask'].iloc[index_]      # select the column to filter upon, here 'path_sw_mask'\n",
    "    src_mask = rio.open(path_file)\n",
    "    _mask = src_mask.read()\n",
    "    \n",
    "    path_file_img = df_2['path_img'].iloc[index_]\n",
    "    src_img = rio.open(path_file_img)\n",
    "    _img = src_img.read()\n",
    "    \n",
    "    return(not(_mask.any()) or not(_img.any()))"
   ]
  },
  {
   "cell_type": "code",
   "execution_count": 15,
   "metadata": {},
   "outputs": [
    {
     "name": "stderr",
     "output_type": "stream",
     "text": [
      "203it [04:25,  1.31s/it]\n"
     ]
    }
   ],
   "source": [
    "with concurrent.futures.ThreadPoolExecutor() as executor:\n",
    "    dff = df_2.copy()\n",
    "    indexes = np.arange(0, len(dff))\n",
    "    droplist = []\n",
    "    df_2['drop'] = list(tqdm.tqdm(executor.map(remove_empty_files, indexes.tolist())))"
   ]
  },
  {
   "cell_type": "code",
   "execution_count": 26,
   "metadata": {},
   "outputs": [],
   "source": [
    "df_2D = df_2[df_2['drop'] == False]"
   ]
  },
  {
   "cell_type": "code",
   "execution_count": 27,
   "metadata": {},
   "outputs": [],
   "source": [
    "df_shuffled = df_2D.sample(frac = 1)\n",
    "df_shuffled = df_shuffled.reset_index(drop = True)"
   ]
  },
  {
   "cell_type": "code",
   "execution_count": 28,
   "metadata": {},
   "outputs": [],
   "source": [
    "train_split = int(len(df_shuffled)*TRAIN_FRAC)\n",
    "df_train = (df_shuffled.loc[: train_split])\n",
    "df_val = (df_shuffled.loc[train_split + 1: ])"
   ]
  },
  {
   "cell_type": "code",
   "execution_count": 29,
   "metadata": {},
   "outputs": [],
   "source": [
    "def find_entry(df_, city_name):\n",
    "    \"\"\"\n",
    "    Returns a dataframe of the enteries with a particular city_name\n",
    "    \"\"\"\n",
    "    df_ = df_[df_.city == city_name]\n",
    "    return df_"
   ]
  },
  {
   "cell_type": "code",
   "execution_count": 30,
   "metadata": {},
   "outputs": [],
   "source": [
    "def add_probability(df_):\n",
    "    v = df_['city'].value_counts()\n",
    "    v = pd.DataFrame(v)\n",
    "    \n",
    "    probability = []\n",
    "    for row in df_['city']:\n",
    "        frequency = v.loc[row][0]\n",
    "        probability.append(1.0/frequency)\n",
    "    \n",
    "    df_ = df_.assign(probability = probability)\n",
    "    return df_"
   ]
  },
  {
   "cell_type": "code",
   "execution_count": 31,
   "metadata": {},
   "outputs": [],
   "source": [
    "df_train = add_probability(df_train)\n",
    "df_val = add_probability(df_val)"
   ]
  },
  {
   "cell_type": "code",
   "execution_count": 34,
   "metadata": {},
   "outputs": [],
   "source": [
    "if not os.path.isdir(os.path.join(SAVE_DIR, folder_name)):\n",
    "    os.makedirs(os.path.join(SAVE_DIR, folder_name))\n",
    "\n",
    "df_train.to_csv(os.path.join(SAVE_DIR, folder_name, 'train.csv'), index_label=False)\n",
    "df_val.to_csv(os.path.join(SAVE_DIR, folder_name, 'val.csv'), index_label=False)"
   ]
  },
  {
   "cell_type": "code",
   "execution_count": 35,
   "metadata": {},
   "outputs": [],
   "source": [
    "df_cities = pd.DataFrame(cities, columns = ['cities'])\n",
    "df_cities.to_csv(os.path.join(SAVE_DIR, folder_name, 'cities.csv'), index_label=False)"
   ]
  },
  {
   "cell_type": "code",
   "execution_count": null,
   "metadata": {},
   "outputs": [],
   "source": []
  },
  {
   "cell_type": "code",
   "execution_count": null,
   "metadata": {},
   "outputs": [],
   "source": []
  }
 ],
 "metadata": {
  "kernelspec": {
   "display_name": "Python 3",
   "language": "python",
   "name": "python3"
  },
  "language_info": {
   "codemirror_mode": {
    "name": "ipython",
    "version": 3
   },
   "file_extension": ".py",
   "mimetype": "text/x-python",
   "name": "python",
   "nbconvert_exporter": "python",
   "pygments_lexer": "ipython3",
   "version": "3.7.8"
  }
 },
 "nbformat": 4,
 "nbformat_minor": 4
}
